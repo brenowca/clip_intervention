{
 "cells": [
  {
   "cell_type": "code",
   "execution_count": null,
   "id": "c481149c",
   "metadata": {},
   "outputs": [],
   "source": [
    "import glob\n",
    "import re\n",
    "import pandas as pd\n",
    "import matplotlib.pyplot as plt\n"
   ]
  },
  {
   "cell_type": "code",
   "execution_count": null,
   "id": "53675a22",
   "metadata": {},
   "outputs": [],
   "source": [
    "\n",
    "# 1. Grab all relevant CSV files\n",
    "csv_files = glob.glob('outputs/after_edit_*.csv')\n",
    "\n",
    "alphas = []\n",
    "acc_values = []\n",
    "\n",
    "# Regular expression to pull the floating number from the filename\n",
    "alpha_pattern = re.compile(r'after_edit_(?P<alpha>[-+]?\\d*\\.\\d+|\\d+)\\.csv')\n",
    "\n",
    "for f in csv_files:\n",
    "    match = alpha_pattern.search(f)\n",
    "    if not match:\n",
    "        continue  # skip files that don’t match the pattern\n",
    "    alpha = float(match.group('alpha'))\n",
    "    df = pd.read_csv(f)\n",
    "\n",
    "    # 2. Get a single representative acc value – here we use the mean\n",
    "    # (change to df['acc'].max() or any other statistic if you prefer)\n",
    "    acc = df['acc'].mean()\n",
    "\n",
    "    alphas.append(alpha)\n",
    "    acc_values.append(acc)\n",
    "\n",
    "# 3. Plot\n",
    "plt.figure(figsize=(8, 5))\n",
    "plt.plot(alphas, acc_values, 'o-', linewidth=2, markersize=6)\n",
    "plt.xlabel('ALPHA')\n",
    "plt.ylabel('Average ACC')\n",
    "plt.title('ALPHA vs. Average Accuracy')\n",
    "plt.grid(True)\n",
    "plt.tight_layout()\n",
    "\n",
    "# 4. Show or save the figure\n",
    "plt.show()   # or: plt.savefig('alpha_vs_acc.png')"
   ]
  }
 ],
 "metadata": {
  "kernelspec": {
   "display_name": ".venv",
   "language": "python",
   "name": "python3"
  },
  "language_info": {
   "name": "python",
   "version": "3.10.16"
  }
 },
 "nbformat": 4,
 "nbformat_minor": 5
}
